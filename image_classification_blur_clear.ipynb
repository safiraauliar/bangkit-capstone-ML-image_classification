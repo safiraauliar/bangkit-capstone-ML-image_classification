{
  "nbformat": 4,
  "nbformat_minor": 0,
  "metadata": {
    "colab": {
      "name": "image-classification-blur-clear.ipynb",
      "provenance": []
    },
    "kernelspec": {
      "name": "python3",
      "display_name": "Python 3"
    },
    "language_info": {
      "name": "python"
    }
  },
  "cells": [
    {
      "cell_type": "code",
      "metadata": {
        "colab": {
          "base_uri": "https://localhost:8080/"
        },
        "id": "LLyV44omrD3n",
        "outputId": "1859c9e0-0a6e-479e-d712-cf58689e524c"
      },
      "source": [
        "!pip install -q tflite-model-maker"
      ],
      "execution_count": 4,
      "outputs": [
        {
          "output_type": "stream",
          "text": [
            "\u001b[K     |████████████████████████████████| 593kB 8.3MB/s \n",
            "\u001b[K     |████████████████████████████████| 174kB 14.0MB/s \n",
            "\u001b[K     |████████████████████████████████| 1.2MB 15.7MB/s \n",
            "\u001b[K     |████████████████████████████████| 71kB 8.9MB/s \n",
            "\u001b[K     |████████████████████████████████| 849kB 34.3MB/s \n",
            "\u001b[K     |████████████████████████████████| 6.3MB 37.1MB/s \n",
            "\u001b[K     |████████████████████████████████| 645kB 35.8MB/s \n",
            "\u001b[K     |████████████████████████████████| 122kB 43.4MB/s \n",
            "\u001b[K     |████████████████████████████████| 686kB 41.6MB/s \n",
            "\u001b[K     |████████████████████████████████| 92kB 9.6MB/s \n",
            "\u001b[K     |████████████████████████████████| 1.1MB 36.0MB/s \n",
            "\u001b[K     |████████████████████████████████| 112kB 48.6MB/s \n",
            "\u001b[K     |████████████████████████████████| 38.2MB 96kB/s \n",
            "\u001b[K     |████████████████████████████████| 102kB 9.5MB/s \n",
            "\u001b[K     |████████████████████████████████| 358kB 39.7MB/s \n",
            "\u001b[K     |████████████████████████████████| 194kB 45.3MB/s \n",
            "\u001b[?25h  Building wheel for fire (setup.py) ... \u001b[?25l\u001b[?25hdone\n",
            "  Building wheel for py-cpuinfo (setup.py) ... \u001b[?25l\u001b[?25hdone\n"
          ],
          "name": "stdout"
        }
      ]
    },
    {
      "cell_type": "code",
      "metadata": {
        "id": "7WNnQ0-HrLJo"
      },
      "source": [
        "import os\n",
        "\n",
        "import numpy as np\n",
        "\n",
        "import tensorflow as tf\n",
        "assert tf.__version__.startswith('2')\n",
        "\n",
        "from tflite_model_maker import model_spec\n",
        "from tflite_model_maker import image_classifier\n",
        "from tflite_model_maker.config import ExportFormat\n",
        "from tflite_model_maker.config import QuantizationConfig\n",
        "from tflite_model_maker.image_classifier import DataLoader\n",
        "\n",
        "import matplotlib.pyplot as plt"
      ],
      "execution_count": 5,
      "outputs": []
    },
    {
      "cell_type": "code",
      "metadata": {
        "id": "_e0NEXzt_MkM",
        "colab": {
          "base_uri": "https://localhost:8080/"
        },
        "outputId": "e3f0a173-8e4d-4314-ddfc-f4f21462532f"
      },
      "source": [
        "!unzip datasets-blur-and-clear.zip -d /content/"
      ],
      "execution_count": 2,
      "outputs": [
        {
          "output_type": "stream",
          "text": [
            "Archive:  datasets-blur-and-clear.zip\n",
            "   creating: /content/datasets-blur-and-clear/\n",
            "   creating: /content/datasets-blur-and-clear/Tidak_Valid/\n",
            " extracting: /content/datasets-blur-and-clear/Tidak_Valid/1_blur_A.png  \n",
            "  inflating: /content/datasets-blur-and-clear/Tidak_Valid/5b6c518ebda1c721008b463c.jpeg  \n",
            " extracting: /content/datasets-blur-and-clear/Tidak_Valid/6ee2e6c0-13e3-11eb-bfef-01b418c39580.webp  \n",
            "  inflating: /content/datasets-blur-and-clear/Tidak_Valid/960808.jpg  \n",
            "  inflating: /content/datasets-blur-and-clear/Tidak_Valid/BB1cq6oJ.jpeg  \n",
            "  inflating: /content/datasets-blur-and-clear/Tidak_Valid/Bergen+bokeh.jpeg  \n",
            "  inflating: /content/datasets-blur-and-clear/Tidak_Valid/Blurry-Driving_Lights_Monterey-Ca.jpg  \n",
            "  inflating: /content/datasets-blur-and-clear/Tidak_Valid/DiskR10_100_1830.jpg  \n",
            "  inflating: /content/datasets-blur-and-clear/Tidak_Valid/DiskR30_12.jpg  \n",
            "  inflating: /content/datasets-blur-and-clear/Tidak_Valid/DiskR30_23.jpg  \n",
            "  inflating: /content/datasets-blur-and-clear/Tidak_Valid/Fix-Blurry-Picture (1).jpg  \n",
            "  inflating: /content/datasets-blur-and-clear/Tidak_Valid/Fix-Blurry-Picture.jpg  \n",
            "  inflating: /content/datasets-blur-and-clear/Tidak_Valid/Gambar_1_2398be5f-a3d0-4b14-9926-feb36c4918bc_large.jpg  \n",
            "  inflating: /content/datasets-blur-and-clear/Tidak_Valid/GaussianH2x80S300_12.jpg  \n",
            "  inflating: /content/datasets-blur-and-clear/Tidak_Valid/GaussianH2x80S300_20.jpg  \n",
            "  inflating: /content/datasets-blur-and-clear/Tidak_Valid/GaussianH2x80S300_22.jpg  \n",
            "  inflating: /content/datasets-blur-and-clear/Tidak_Valid/Gav-Wyatt.png  \n",
            "  inflating: /content/datasets-blur-and-clear/Tidak_Valid/MotionL100Th0_12.jpg  \n",
            "  inflating: /content/datasets-blur-and-clear/Tidak_Valid/MotionL100Th0_22.jpg  \n",
            "  inflating: /content/datasets-blur-and-clear/Tidak_Valid/MotionL100Th0_3.jpg  \n",
            "  inflating: /content/datasets-blur-and-clear/Tidak_Valid/MotionL100Th0_7.jpg  \n",
            "  inflating: /content/datasets-blur-and-clear/Tidak_Valid/MotionL100Th45_16.jpg  \n",
            "  inflating: /content/datasets-blur-and-clear/Tidak_Valid/MotionL20H45_DSC02213.JPG  \n",
            "  inflating: /content/datasets-blur-and-clear/Tidak_Valid/MotionL20H45_DSC05279.JPG  \n",
            "  inflating: /content/datasets-blur-and-clear/Tidak_Valid/MotionL20H45_DSC05281.JPG  \n",
            "  inflating: /content/datasets-blur-and-clear/Tidak_Valid/MotionL20H45_DSC05291.JPG  \n",
            "  inflating: /content/datasets-blur-and-clear/Tidak_Valid/MotionL20H45_DSC05295.JPG  \n",
            "  inflating: /content/datasets-blur-and-clear/Tidak_Valid/MotionL20H45_DSC05296.JPG  \n",
            "  inflating: /content/datasets-blur-and-clear/Tidak_Valid/MotionL50H0_DSC05306.JPG  \n",
            "  inflating: /content/datasets-blur-and-clear/Tidak_Valid/MotionL50H0_DSC06963.jpg  \n",
            "  inflating: /content/datasets-blur-and-clear/Tidak_Valid/MotionL50H0_DSCN1071.JPG  \n",
            "  inflating: /content/datasets-blur-and-clear/Tidak_Valid/MotionL50H0_DSCN6481.JPG  \n",
            "  inflating: /content/datasets-blur-and-clear/Tidak_Valid/MotionL50H0_IMG_0184.JPG  \n",
            "  inflating: /content/datasets-blur-and-clear/Tidak_Valid/MotionL50H0_IMG_7605.JPG  \n",
            "  inflating: /content/datasets-blur-and-clear/Tidak_Valid/MotionL50H0_IMG_7731.JPG  \n",
            "  inflating: /content/datasets-blur-and-clear/Tidak_Valid/MotionL50H0_IMG_7769.JPG  \n",
            "  inflating: /content/datasets-blur-and-clear/Tidak_Valid/MotionL50H0_P1012538.JPG  \n",
            "  inflating: /content/datasets-blur-and-clear/Tidak_Valid/background-blur-blurred-1350-copy2.jpg.crdownload  \n",
            "  inflating: /content/datasets-blur-and-clear/Tidak_Valid/blur-3.jpg.crdownload  \n",
            "  inflating: /content/datasets-blur-and-clear/Tidak_Valid/blur-road-tree-nature-background-abstract-green-leaf-146188951.jpg  \n",
            "  inflating: /content/datasets-blur-and-clear/Tidak_Valid/blur1.jpeg  \n",
            "  inflating: /content/datasets-blur-and-clear/Tidak_Valid/blurred-background-5262455_1280.jpg  \n",
            "  inflating: /content/datasets-blur-and-clear/Tidak_Valid/blurred-image.png  \n",
            "  inflating: /content/datasets-blur-and-clear/Tidak_Valid/blurry-dark-restaurant-background-free-photo.jpg  \n",
            "  inflating: /content/datasets-blur-and-clear/Tidak_Valid/bokeh-background-skyscraper-buildings-downtown-urban-city-lights-blurry-photo-night-time-illuminated-cityscape-bokeh-166822978.jpg  \n",
            "  inflating: /content/datasets-blur-and-clear/Tidak_Valid/download (1).jpeg  \n",
            "  inflating: /content/datasets-blur-and-clear/Tidak_Valid/download (2).jpeg  \n",
            "  inflating: /content/datasets-blur-and-clear/Tidak_Valid/download (3).jpeg  \n",
            "  inflating: /content/datasets-blur-and-clear/Tidak_Valid/download (4).jpeg  \n",
            "  inflating: /content/datasets-blur-and-clear/Tidak_Valid/download.jpeg  \n",
            "  inflating: /content/datasets-blur-and-clear/Tidak_Valid/foreverblur.png  \n",
            "  inflating: /content/datasets-blur-and-clear/Tidak_Valid/images (1).jpeg  \n",
            "  inflating: /content/datasets-blur-and-clear/Tidak_Valid/images (2).jpeg  \n",
            "  inflating: /content/datasets-blur-and-clear/Tidak_Valid/images (3).jpeg  \n",
            "  inflating: /content/datasets-blur-and-clear/Tidak_Valid/images (4).jpeg  \n",
            "  inflating: /content/datasets-blur-and-clear/Tidak_Valid/images (5).jpeg  \n",
            "  inflating: /content/datasets-blur-and-clear/Tidak_Valid/images (6).jpeg  \n",
            "  inflating: /content/datasets-blur-and-clear/Tidak_Valid/images (7).jpeg  \n",
            "  inflating: /content/datasets-blur-and-clear/Tidak_Valid/images.jpeg  \n",
            "  inflating: /content/datasets-blur-and-clear/Tidak_Valid/main-qimg-a5afdce391bdb2dc849e1c38ebb50a5f.jpeg  \n",
            "  inflating: /content/datasets-blur-and-clear/Tidak_Valid/office.png  \n",
            " extracting: /content/datasets-blur-and-clear/Tidak_Valid/pan.png  \n",
            "  inflating: /content/datasets-blur-and-clear/Tidak_Valid/pexels-photo-1668928.jpeg  \n",
            "  inflating: /content/datasets-blur-and-clear/Tidak_Valid/photo-1510353157186-4e5fec7beb6d.jpeg  \n",
            "  inflating: /content/datasets-blur-and-clear/Tidak_Valid/shutterstock_121618450.jpg  \n",
            "  inflating: /content/datasets-blur-and-clear/Tidak_Valid/word-image-6.jpg  \n",
            "   creating: /content/datasets-blur-and-clear/Valid/\n",
            "  inflating: /content/datasets-blur-and-clear/Valid/16x9_M.jpg  \n",
            "  inflating: /content/datasets-blur-and-clear/Valid/23351pre_62701061a7f66be.jpg  \n",
            "  inflating: /content/datasets-blur-and-clear/Valid/23546442_web1_AP20338138898243.jpg  \n",
            "  inflating: /content/datasets-blur-and-clear/Valid/385ae7d42ca5e8caa8af6a37f13061af.jpeg  \n",
            "  inflating: /content/datasets-blur-and-clear/Valid/42-50927749.jpg  \n",
            "  inflating: /content/datasets-blur-and-clear/Valid/AL tornado4_Credit_NWS Birmingham.jpeg  \n",
            "  inflating: /content/datasets-blur-and-clear/Valid/CIMG0021.JPG  \n",
            "  inflating: /content/datasets-blur-and-clear/Valid/CIMG0029.JPG  \n",
            "  inflating: /content/datasets-blur-and-clear/Valid/CIMG0036.JPG  \n",
            "  inflating: /content/datasets-blur-and-clear/Valid/CIMG0047.JPG  \n",
            "  inflating: /content/datasets-blur-and-clear/Valid/CIMG0061.JPG  \n",
            "  inflating: /content/datasets-blur-and-clear/Valid/CIMG0062.JPG  \n",
            "  inflating: /content/datasets-blur-and-clear/Valid/CIMG0064.JPG  \n",
            "  inflating: /content/datasets-blur-and-clear/Valid/CIMG0077.JPG  \n",
            "  inflating: /content/datasets-blur-and-clear/Valid/CIMG0121.JPG  \n",
            "  inflating: /content/datasets-blur-and-clear/Valid/CIMG0131.JPG  \n",
            "  inflating: /content/datasets-blur-and-clear/Valid/CIMG0132.JPG  \n",
            "  inflating: /content/datasets-blur-and-clear/Valid/CIMG0138.JPG  \n",
            "  inflating: /content/datasets-blur-and-clear/Valid/CIMG0155.JPG  \n",
            "  inflating: /content/datasets-blur-and-clear/Valid/CIMG0205.JPG  \n",
            "  inflating: /content/datasets-blur-and-clear/Valid/CIMG0210.JPG  \n",
            "  inflating: /content/datasets-blur-and-clear/Valid/CIMG0264.JPG  \n",
            "  inflating: /content/datasets-blur-and-clear/Valid/CIMG0266.JPG  \n",
            "  inflating: /content/datasets-blur-and-clear/Valid/CIMG0278.JPG  \n",
            "  inflating: /content/datasets-blur-and-clear/Valid/CIMG0279.JPG  \n",
            "  inflating: /content/datasets-blur-and-clear/Valid/CIMG0289.JPG  \n",
            "  inflating: /content/datasets-blur-and-clear/Valid/CIMG0294.JPG  \n",
            "  inflating: /content/datasets-blur-and-clear/Valid/CIMG0304.JPG  \n",
            "  inflating: /content/datasets-blur-and-clear/Valid/CIMG0305.JPG  \n",
            "  inflating: /content/datasets-blur-and-clear/Valid/CIMG0306.JPG  \n",
            "  inflating: /content/datasets-blur-and-clear/Valid/CIMG0317.JPG  \n",
            "  inflating: /content/datasets-blur-and-clear/Valid/CIMG0318.JPG  \n",
            "  inflating: /content/datasets-blur-and-clear/Valid/CIMG0319.JPG  \n",
            "  inflating: /content/datasets-blur-and-clear/Valid/CIMG0320.JPG  \n",
            "  inflating: /content/datasets-blur-and-clear/Valid/CIMG0346.JPG  \n",
            "  inflating: /content/datasets-blur-and-clear/Valid/CIMG0347.JPG  \n",
            "  inflating: /content/datasets-blur-and-clear/Valid/CIMG0348.JPG  \n",
            "  inflating: /content/datasets-blur-and-clear/Valid/CIMG0349.JPG  \n",
            "  inflating: /content/datasets-blur-and-clear/Valid/CIMG0350.JPG  \n",
            "  inflating: /content/datasets-blur-and-clear/Valid/CIMG0352.JPG  \n",
            "  inflating: /content/datasets-blur-and-clear/Valid/CIMG0353.JPG  \n",
            "  inflating: /content/datasets-blur-and-clear/Valid/CIMG0354.JPG  \n",
            "  inflating: /content/datasets-blur-and-clear/Valid/CIMG0355.JPG  \n",
            "  inflating: /content/datasets-blur-and-clear/Valid/CIMG0359.JPG  \n",
            "  inflating: /content/datasets-blur-and-clear/Valid/CIMG0362.JPG  \n",
            "  inflating: /content/datasets-blur-and-clear/Valid/CIMG0363.JPG  \n",
            "  inflating: /content/datasets-blur-and-clear/Valid/CIMG0364.JPG  \n",
            "  inflating: /content/datasets-blur-and-clear/Valid/CIMG0365.JPG  \n",
            "  inflating: /content/datasets-blur-and-clear/Valid/CIMG0376.JPG  \n",
            "  inflating: /content/datasets-blur-and-clear/Valid/CIMG0416.JPG  \n",
            "  inflating: /content/datasets-blur-and-clear/Valid/CIMG0442.JPG  \n",
            "  inflating: /content/datasets-blur-and-clear/Valid/CIMG0443.JPG  \n",
            "  inflating: /content/datasets-blur-and-clear/Valid/CIMG0444.JPG  \n",
            "  inflating: /content/datasets-blur-and-clear/Valid/CIMG0447.JPG  \n",
            "  inflating: /content/datasets-blur-and-clear/Valid/CIMG0527.JPG  \n",
            "  inflating: /content/datasets-blur-and-clear/Valid/CIMG0544.JPG  \n",
            "  inflating: /content/datasets-blur-and-clear/Valid/CIMG0545.JPG  \n",
            "  inflating: /content/datasets-blur-and-clear/Valid/CIMG0621.JPG  \n",
            "  inflating: /content/datasets-blur-and-clear/Valid/CIMG7947.JPG  \n",
            "  inflating: /content/datasets-blur-and-clear/Valid/CIMG7948.JPG  \n",
            "  inflating: /content/datasets-blur-and-clear/Valid/CIMG8186.JPG  \n",
            "  inflating: /content/datasets-blur-and-clear/Valid/CIMG8396.JPG  \n",
            "  inflating: /content/datasets-blur-and-clear/Valid/CIMG8652.JPG  \n",
            "  inflating: /content/datasets-blur-and-clear/Valid/CIMG8690.JPG  \n",
            "  inflating: /content/datasets-blur-and-clear/Valid/CIMG8917.JPG  \n",
            "  inflating: /content/datasets-blur-and-clear/Valid/CIMG8923.JPG  \n",
            "  inflating: /content/datasets-blur-and-clear/Valid/CIMG8924.JPG  \n",
            "  inflating: /content/datasets-blur-and-clear/Valid/CIMG8925.JPG  \n",
            "  inflating: /content/datasets-blur-and-clear/Valid/CR-damage-860x586-1.png  \n",
            "  inflating: /content/datasets-blur-and-clear/Valid/DSC00046.JPG  \n",
            "  inflating: /content/datasets-blur-and-clear/Valid/DSCN2797.JPG  \n",
            "  inflating: /content/datasets-blur-and-clear/Valid/DSCN2802.JPG  \n",
            "  inflating: /content/datasets-blur-and-clear/Valid/DSCN2810.JPG  \n",
            "  inflating: /content/datasets-blur-and-clear/Valid/DSCN6391.JPG  \n",
            "  inflating: /content/datasets-blur-and-clear/Valid/DSCN6406.JPG  \n",
            "  inflating: /content/datasets-blur-and-clear/Valid/DSCN6409.JPG  \n",
            "  inflating: /content/datasets-blur-and-clear/Valid/DSCN6421.JPG  \n",
            "  inflating: /content/datasets-blur-and-clear/Valid/DSCN6479.JPG  \n",
            "  inflating: /content/datasets-blur-and-clear/Valid/DSCN6481.JPG  \n",
            "  inflating: /content/datasets-blur-and-clear/Valid/DSCN6484.JPG  \n",
            "  inflating: /content/datasets-blur-and-clear/Valid/DSCN6508.JPG  \n",
            "  inflating: /content/datasets-blur-and-clear/Valid/DSCN6516.JPG  \n",
            "  inflating: /content/datasets-blur-and-clear/Valid/DSCN6519.JPG  \n",
            "  inflating: /content/datasets-blur-and-clear/Valid/DSCN6520.JPG  \n",
            "  inflating: /content/datasets-blur-and-clear/Valid/DSCN6521.JPG  \n",
            "  inflating: /content/datasets-blur-and-clear/Valid/DSCN6538.JPG  \n",
            "  inflating: /content/datasets-blur-and-clear/Valid/DSCN6539.JPG  \n",
            "  inflating: /content/datasets-blur-and-clear/Valid/DSCN6601.JPG  \n",
            "  inflating: /content/datasets-blur-and-clear/Valid/DSCN7104.JPG  \n",
            "  inflating: /content/datasets-blur-and-clear/Valid/DSCN7129.JPG  \n",
            "  inflating: /content/datasets-blur-and-clear/Valid/DSCN7235.JPG  \n",
            "  inflating: /content/datasets-blur-and-clear/Valid/DSCN7236.JPG  \n",
            "  inflating: /content/datasets-blur-and-clear/Valid/HPIM0339.JPG  \n",
            "  inflating: /content/datasets-blur-and-clear/Valid/IMG_0003.JPG  \n",
            "  inflating: /content/datasets-blur-and-clear/Valid/IMG_0066.JPG  \n",
            "  inflating: /content/datasets-blur-and-clear/Valid/IMG_0174.JPG  \n",
            "  inflating: /content/datasets-blur-and-clear/Valid/IMG_0184.JPG  \n",
            "  inflating: /content/datasets-blur-and-clear/Valid/IMG_0211.JPG  \n",
            "  inflating: /content/datasets-blur-and-clear/Valid/IMG_0260.JPG  \n",
            "  inflating: /content/datasets-blur-and-clear/Valid/IMG_0272.JPG  \n",
            "  inflating: /content/datasets-blur-and-clear/Valid/IMG_0297.JPG  \n",
            "  inflating: /content/datasets-blur-and-clear/Valid/IMG_0318.JPG  \n",
            "  inflating: /content/datasets-blur-and-clear/Valid/IMG_0487.JPG  \n",
            "  inflating: /content/datasets-blur-and-clear/Valid/IMG_0488.JPG  \n",
            "  inflating: /content/datasets-blur-and-clear/Valid/IMG_0489.JPG  \n",
            "  inflating: /content/datasets-blur-and-clear/Valid/IMG_0490.JPG  \n",
            "  inflating: /content/datasets-blur-and-clear/Valid/IMG_0493.JPG  \n",
            "  inflating: /content/datasets-blur-and-clear/Valid/IMG_0497.JPG  \n",
            "  inflating: /content/datasets-blur-and-clear/Valid/IMG_0498.JPG  \n",
            "  inflating: /content/datasets-blur-and-clear/Valid/IMG_0499.JPG  \n",
            "  inflating: /content/datasets-blur-and-clear/Valid/IMG_0504.JPG  \n",
            "  inflating: /content/datasets-blur-and-clear/Valid/IMG_0513.JPG  \n",
            "  inflating: /content/datasets-blur-and-clear/Valid/IMG_0514.JPG  \n",
            "  inflating: /content/datasets-blur-and-clear/Valid/IMG_0515.JPG  \n",
            "  inflating: /content/datasets-blur-and-clear/Valid/IMG_0521.JPG  \n",
            "  inflating: /content/datasets-blur-and-clear/Valid/IMG_0522.JPG  \n",
            "  inflating: /content/datasets-blur-and-clear/Valid/IMG_0523.JPG  \n",
            "  inflating: /content/datasets-blur-and-clear/Valid/IMG_0524.JPG  \n",
            "  inflating: /content/datasets-blur-and-clear/Valid/IMG_0525.JPG  \n",
            "  inflating: /content/datasets-blur-and-clear/Valid/IMG_0527.JPG  \n",
            "  inflating: /content/datasets-blur-and-clear/Valid/IMG_0529.JPG  \n",
            "  inflating: /content/datasets-blur-and-clear/Valid/IMG_0530.JPG  \n",
            "  inflating: /content/datasets-blur-and-clear/Valid/IMG_0535.JPG  \n",
            "  inflating: /content/datasets-blur-and-clear/Valid/IMG_0536.JPG  \n",
            "  inflating: /content/datasets-blur-and-clear/Valid/IMG_0538.JPG  \n",
            "  inflating: /content/datasets-blur-and-clear/Valid/IMG_0544.JPG  \n",
            "  inflating: /content/datasets-blur-and-clear/Valid/IMG_0545.JPG  \n",
            "  inflating: /content/datasets-blur-and-clear/Valid/IMG_0546.JPG  \n",
            "  inflating: /content/datasets-blur-and-clear/Valid/IMG_0554.JPG  \n",
            "  inflating: /content/datasets-blur-and-clear/Valid/IMG_0557.JPG  \n",
            "  inflating: /content/datasets-blur-and-clear/Valid/IMG_0558.JPG  \n",
            "  inflating: /content/datasets-blur-and-clear/Valid/IMG_0570.JPG  \n",
            "  inflating: /content/datasets-blur-and-clear/Valid/IMG_0575.JPG  \n",
            "  inflating: /content/datasets-blur-and-clear/Valid/IMG_0584.JPG  \n",
            "  inflating: /content/datasets-blur-and-clear/Valid/IMG_0586.JPG  \n",
            "  inflating: /content/datasets-blur-and-clear/Valid/IMG_0594.JPG  \n",
            "  inflating: /content/datasets-blur-and-clear/Valid/IMG_0600.JPG  \n",
            "  inflating: /content/datasets-blur-and-clear/Valid/IMG_0608.JPG  \n",
            "  inflating: /content/datasets-blur-and-clear/Valid/IMG_0613.JPG  \n",
            "  inflating: /content/datasets-blur-and-clear/Valid/IMG_0623.JPG  \n",
            "  inflating: /content/datasets-blur-and-clear/Valid/IMG_0627.JPG  \n",
            "  inflating: /content/datasets-blur-and-clear/Valid/IMG_0712.JPG  \n",
            "  inflating: /content/datasets-blur-and-clear/Valid/IMG_0741.JPG  \n",
            "  inflating: /content/datasets-blur-and-clear/Valid/IMG_0753.JPG  \n",
            "  inflating: /content/datasets-blur-and-clear/Valid/IMG_0755.JPG  \n",
            "  inflating: /content/datasets-blur-and-clear/Valid/IMG_0757.JPG  \n",
            "  inflating: /content/datasets-blur-and-clear/Valid/IMG_0855.JPG  \n",
            "  inflating: /content/datasets-blur-and-clear/Valid/IMG_0870.JPG  \n",
            "  inflating: /content/datasets-blur-and-clear/Valid/IMG_0872.JPG  \n",
            "  inflating: /content/datasets-blur-and-clear/Valid/IMG_0965.JPG  \n",
            "  inflating: /content/datasets-blur-and-clear/Valid/IMG_0968.JPG  \n",
            "  inflating: /content/datasets-blur-and-clear/Valid/IMG_1008.JPG  \n",
            "  inflating: /content/datasets-blur-and-clear/Valid/IMG_1009.JPG  \n",
            "  inflating: /content/datasets-blur-and-clear/Valid/IMG_1041.JPG  \n",
            "  inflating: /content/datasets-blur-and-clear/Valid/IMG_1105.JPG  \n",
            "  inflating: /content/datasets-blur-and-clear/Valid/IMG_1106.JPG  \n",
            "  inflating: /content/datasets-blur-and-clear/Valid/IMG_1125.JPG  \n",
            "  inflating: /content/datasets-blur-and-clear/Valid/IMG_1183.JPG  \n",
            "  inflating: /content/datasets-blur-and-clear/Valid/IMG_1185.JPG  \n",
            "  inflating: /content/datasets-blur-and-clear/Valid/IMG_1189.JPG  \n",
            "  inflating: /content/datasets-blur-and-clear/Valid/IMG_1191.JPG  \n",
            "  inflating: /content/datasets-blur-and-clear/Valid/IMG_1233.JPG  \n",
            "  inflating: /content/datasets-blur-and-clear/Valid/IMG_1252.JPG  \n",
            "  inflating: /content/datasets-blur-and-clear/Valid/IMG_1267.JPG  \n",
            "  inflating: /content/datasets-blur-and-clear/Valid/IMG_1279.JPG  \n",
            "  inflating: /content/datasets-blur-and-clear/Valid/IMG_1333.JPG  \n",
            "  inflating: /content/datasets-blur-and-clear/Valid/IMG_1338.JPG  \n",
            "  inflating: /content/datasets-blur-and-clear/Valid/IMG_1339.JPG  \n",
            "  inflating: /content/datasets-blur-and-clear/Valid/IMG_1367.JPG  \n",
            "  inflating: /content/datasets-blur-and-clear/Valid/IMG_1489.JPG  \n",
            "  inflating: /content/datasets-blur-and-clear/Valid/IMG_20120720_142713.jpg  \n",
            "  inflating: /content/datasets-blur-and-clear/Valid/IMG_20120721_170910.jpg  \n",
            "  inflating: /content/datasets-blur-and-clear/Valid/IMG_20120721_171304.jpg  \n",
            "  inflating: /content/datasets-blur-and-clear/Valid/IMG_20120721_173823.jpg  \n",
            "  inflating: /content/datasets-blur-and-clear/Valid/IMG_20120721_174113.jpg  \n",
            "  inflating: /content/datasets-blur-and-clear/Valid/IMG_20120721_181521.jpg  \n",
            "  inflating: /content/datasets-blur-and-clear/Valid/IMG_20120721_204636.jpg  \n",
            "  inflating: /content/datasets-blur-and-clear/Valid/IMG_20120722_131859.jpg  \n",
            "  inflating: /content/datasets-blur-and-clear/Valid/IMG_20120722_134942.jpg  \n",
            "  inflating: /content/datasets-blur-and-clear/Valid/IMG_20120722_173712.jpg  \n",
            "  inflating: /content/datasets-blur-and-clear/Valid/IMG_20120722_180530.jpg  \n",
            "  inflating: /content/datasets-blur-and-clear/Valid/IMG_20120722_182933.jpg  \n",
            "  inflating: /content/datasets-blur-and-clear/Valid/IMG_20120723_140823.jpg  \n",
            "  inflating: /content/datasets-blur-and-clear/Valid/IMG_20120723_150333.jpg  \n",
            "  inflating: /content/datasets-blur-and-clear/Valid/IMG_3027.JPG  \n",
            "  inflating: /content/datasets-blur-and-clear/Valid/IMG_3041.JPG  \n",
            "  inflating: /content/datasets-blur-and-clear/Valid/IMG_7605.JPG  \n",
            "  inflating: /content/datasets-blur-and-clear/Valid/IMG_7722.JPG  \n",
            "  inflating: /content/datasets-blur-and-clear/Valid/IMG_7731.JPG  \n",
            "  inflating: /content/datasets-blur-and-clear/Valid/IMG_7733.JPG  \n",
            "  inflating: /content/datasets-blur-and-clear/Valid/IMG_7769.JPG  \n",
            "  inflating: /content/datasets-blur-and-clear/Valid/IMG_8692.JPG  \n",
            "  inflating: /content/datasets-blur-and-clear/Valid/IMG_8702.JPG  \n",
            "  inflating: /content/datasets-blur-and-clear/Valid/IMG_8703.JPG  \n",
            "  inflating: /content/datasets-blur-and-clear/Valid/IMG_8705.JPG  \n",
            "  inflating: /content/datasets-blur-and-clear/Valid/IMG_8706.JPG  \n",
            "  inflating: /content/datasets-blur-and-clear/Valid/IMG_8714.JPG  \n",
            "  inflating: /content/datasets-blur-and-clear/Valid/IMG_8736.JPG  \n",
            "  inflating: /content/datasets-blur-and-clear/Valid/IMG_8749.JPG  \n",
            "  inflating: /content/datasets-blur-and-clear/Valid/IMG_8750.JPG  \n",
            "  inflating: /content/datasets-blur-and-clear/Valid/IMG_8784.JPG  \n",
            "  inflating: /content/datasets-blur-and-clear/Valid/IMG_8841.JPG  \n",
            "  inflating: /content/datasets-blur-and-clear/Valid/IMG_8875.JPG  \n",
            "  inflating: /content/datasets-blur-and-clear/Valid/Kerusakan-Gempa-Palu-290918-zmn-1.jpg  \n",
            "  inflating: /content/datasets-blur-and-clear/Valid/apicturetake.jpg  \n",
            "  inflating: /content/datasets-blur-and-clear/Valid/banjir.jpg  \n",
            "  inflating: /content/datasets-blur-and-clear/Valid/barca20080101_000000__69.JPG  \n",
            "  inflating: /content/datasets-blur-and-clear/Valid/barca20080101_000000__81.JPG  \n",
            "  inflating: /content/datasets-blur-and-clear/Valid/damage-by-disaster.jpg  \n",
            "  inflating: /content/datasets-blur-and-clear/Valid/disaster-prediction.jpg  \n",
            "  inflating: /content/datasets-blur-and-clear/Valid/disaster.jpeg  \n",
            "  inflating: /content/datasets-blur-and-clear/Valid/gefura_marasiwn3.JPG  \n",
            "  inflating: /content/datasets-blur-and-clear/Valid/image_02014.jpg  \n",
            "  inflating: /content/datasets-blur-and-clear/Valid/merlin_182344011_6437e7dd-58d9-4b82-a4fc-65a482f6ced4-articleLarge.jpg  \n",
            "  inflating: /content/datasets-blur-and-clear/Valid/natural-disasters-900x600 (1).jpg  \n",
            "  inflating: /content/datasets-blur-and-clear/Valid/tsunami-900x500-1000x0-c-default.jpg  \n",
            "  inflating: /content/datasets-blur-and-clear/Valid/unnamed.jpg  \n",
            " extracting: /content/datasets-blur-and-clear/Valid/wildfiresdea.jpg  \n"
          ],
          "name": "stdout"
        }
      ]
    },
    {
      "cell_type": "code",
      "metadata": {
        "colab": {
          "base_uri": "https://localhost:8080/"
        },
        "id": "yI5dYjuk_fL3",
        "outputId": "b4e35512-913f-41de-a1a3-d29805ed7432"
      },
      "source": [
        "image_path = os.path.join(os.path.dirname('/content/datasets-blur-and-clear'), 'datasets-blur-and-clear')\n",
        "data = DataLoader.from_folder(image_path)\n",
        "train_data, test_data = data.split(0.9)"
      ],
      "execution_count": 14,
      "outputs": [
        {
          "output_type": "stream",
          "text": [
            "INFO:tensorflow:Load image with size: 281, num_label: 2, labels: Tidak_Valid, Valid.\n"
          ],
          "name": "stdout"
        },
        {
          "output_type": "stream",
          "text": [
            "INFO:tensorflow:Load image with size: 281, num_label: 2, labels: Tidak_Valid, Valid.\n"
          ],
          "name": "stderr"
        }
      ]
    },
    {
      "cell_type": "code",
      "metadata": {
        "id": "XnGVN_MKDzXA",
        "colab": {
          "base_uri": "https://localhost:8080/"
        },
        "outputId": "05b1c695-3e8b-4f16-8866-ced807074e99"
      },
      "source": [
        "model = image_classifier.create(train_data)"
      ],
      "execution_count": 15,
      "outputs": [
        {
          "output_type": "stream",
          "text": [
            "INFO:tensorflow:Retraining the models...\n"
          ],
          "name": "stdout"
        },
        {
          "output_type": "stream",
          "text": [
            "INFO:tensorflow:Retraining the models...\n"
          ],
          "name": "stderr"
        },
        {
          "output_type": "stream",
          "text": [
            "WARNING:tensorflow:Please add `keras.layers.InputLayer` instead of `keras.Input` to Sequential model. `keras.Input` is intended to be used by Functional model.\n"
          ],
          "name": "stdout"
        },
        {
          "output_type": "stream",
          "text": [
            "WARNING:tensorflow:Please add `keras.layers.InputLayer` instead of `keras.Input` to Sequential model. `keras.Input` is intended to be used by Functional model.\n"
          ],
          "name": "stderr"
        },
        {
          "output_type": "stream",
          "text": [
            "Model: \"sequential_3\"\n",
            "_________________________________________________________________\n",
            "Layer (type)                 Output Shape              Param #   \n",
            "=================================================================\n",
            "hub_keras_layer_v1v2_3 (HubK (None, 1280)              3413024   \n",
            "_________________________________________________________________\n",
            "dropout_3 (Dropout)          (None, 1280)              0         \n",
            "_________________________________________________________________\n",
            "dense_3 (Dense)              (None, 2)                 2562      \n",
            "=================================================================\n",
            "Total params: 3,415,586\n",
            "Trainable params: 2,562\n",
            "Non-trainable params: 3,413,024\n",
            "_________________________________________________________________\n",
            "None\n",
            "Epoch 1/5\n"
          ],
          "name": "stdout"
        },
        {
          "output_type": "stream",
          "text": [
            "/usr/local/lib/python3.7/dist-packages/tensorflow/python/keras/optimizer_v2/optimizer_v2.py:375: UserWarning: The `lr` argument is deprecated, use `learning_rate` instead.\n",
            "  \"The `lr` argument is deprecated, use `learning_rate` instead.\")\n"
          ],
          "name": "stderr"
        },
        {
          "output_type": "stream",
          "text": [
            "7/7 [==============================] - 89s 7s/step - loss: 0.6516 - accuracy: 0.7411\n",
            "Epoch 2/5\n",
            "7/7 [==============================] - 45s 6s/step - loss: 0.3917 - accuracy: 0.8839\n",
            "Epoch 3/5\n",
            "7/7 [==============================] - 50s 7s/step - loss: 0.2863 - accuracy: 0.9732\n",
            "Epoch 4/5\n",
            "7/7 [==============================] - 46s 7s/step - loss: 0.2547 - accuracy: 0.9777\n",
            "Epoch 5/5\n",
            "7/7 [==============================] - 45s 6s/step - loss: 0.2546 - accuracy: 0.9866\n"
          ],
          "name": "stdout"
        }
      ]
    },
    {
      "cell_type": "code",
      "metadata": {
        "colab": {
          "base_uri": "https://localhost:8080/"
        },
        "id": "R-9UaJBlKtsu",
        "outputId": "b078fad2-d10c-48b6-b970-58aa1d3c5305"
      },
      "source": [
        "loss, accuracy = model.evaluate(test_data)"
      ],
      "execution_count": 16,
      "outputs": [
        {
          "output_type": "stream",
          "text": [
            "1/1 [==============================] - 15s 15s/step - loss: 0.3386 - accuracy: 0.9310\n"
          ],
          "name": "stdout"
        }
      ]
    },
    {
      "cell_type": "code",
      "metadata": {
        "colab": {
          "base_uri": "https://localhost:8080/"
        },
        "id": "y1xTNCKgLAtg",
        "outputId": "35064347-6501-4090-c021-02a21c4fb6b7"
      },
      "source": [
        "model.export(export_dir='.')"
      ],
      "execution_count": 17,
      "outputs": [
        {
          "output_type": "stream",
          "text": [
            "INFO:tensorflow:Assets written to: /tmp/tmpdxjhn0jb/assets\n"
          ],
          "name": "stdout"
        },
        {
          "output_type": "stream",
          "text": [
            "INFO:tensorflow:Assets written to: /tmp/tmpdxjhn0jb/assets\n",
            "WARNING:absl:For model inputs containing unsupported operations which cannot be quantized, the `inference_input_type` attribute will default to the original type.\n"
          ],
          "name": "stderr"
        },
        {
          "output_type": "stream",
          "text": [
            "INFO:tensorflow:Label file is inside the TFLite model with metadata.\n"
          ],
          "name": "stdout"
        },
        {
          "output_type": "stream",
          "text": [
            "INFO:tensorflow:Label file is inside the TFLite model with metadata.\n"
          ],
          "name": "stderr"
        },
        {
          "output_type": "stream",
          "text": [
            "INFO:tensorflow:Saving labels in /tmp/tmprcf5es65/labels.txt\n"
          ],
          "name": "stdout"
        },
        {
          "output_type": "stream",
          "text": [
            "INFO:tensorflow:Saving labels in /tmp/tmprcf5es65/labels.txt\n"
          ],
          "name": "stderr"
        },
        {
          "output_type": "stream",
          "text": [
            "INFO:tensorflow:TensorFlow Lite model exported successfully: ./model.tflite\n"
          ],
          "name": "stdout"
        },
        {
          "output_type": "stream",
          "text": [
            "INFO:tensorflow:TensorFlow Lite model exported successfully: ./model.tflite\n"
          ],
          "name": "stderr"
        }
      ]
    },
    {
      "cell_type": "code",
      "metadata": {
        "id": "HXaI3lxuOIpW"
      },
      "source": [
        ""
      ],
      "execution_count": null,
      "outputs": []
    }
  ]
}